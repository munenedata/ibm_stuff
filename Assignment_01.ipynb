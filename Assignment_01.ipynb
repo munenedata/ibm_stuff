{
    "cells": [
        {
            "cell_type": "markdown",
            "metadata": {
                "collapsed": true
            },
            "source": "Stephen Munene\n\nmunesteve@gmail.com\n\n0712291940\n\n\nAirlines assignment"
        },
        {
            "cell_type": "code",
            "execution_count": 17,
            "metadata": {},
            "outputs": [],
            "source": "import pandas as pd\n\nflight_data = pd.read_csv('https://modkenya.com/datascience_sat/datasets/AirlinesCluster.csv')"
        },
        {
            "cell_type": "markdown",
            "metadata": {},
            "source": "Explore the data"
        },
        {
            "cell_type": "code",
            "execution_count": 18,
            "metadata": {},
            "outputs": [
                {
                    "data": {
                        "text/html": "<div>\n<style scoped>\n    .dataframe tbody tr th:only-of-type {\n        vertical-align: middle;\n    }\n\n    .dataframe tbody tr th {\n        vertical-align: top;\n    }\n\n    .dataframe thead th {\n        text-align: right;\n    }\n</style>\n<table border=\"1\" class=\"dataframe\">\n  <thead>\n    <tr style=\"text-align: right;\">\n      <th></th>\n      <th>Balance</th>\n      <th>QualMiles</th>\n      <th>BonusMiles</th>\n      <th>BonusTrans</th>\n      <th>FlightMiles</th>\n      <th>FlightTrans</th>\n      <th>DaysSinceEnroll</th>\n    </tr>\n  </thead>\n  <tbody>\n    <tr>\n      <th>0</th>\n      <td>28143</td>\n      <td>0</td>\n      <td>174</td>\n      <td>1</td>\n      <td>0</td>\n      <td>0</td>\n      <td>7000</td>\n    </tr>\n    <tr>\n      <th>1</th>\n      <td>19244</td>\n      <td>0</td>\n      <td>215</td>\n      <td>2</td>\n      <td>0</td>\n      <td>0</td>\n      <td>6968</td>\n    </tr>\n    <tr>\n      <th>2</th>\n      <td>41354</td>\n      <td>0</td>\n      <td>4123</td>\n      <td>4</td>\n      <td>0</td>\n      <td>0</td>\n      <td>7034</td>\n    </tr>\n    <tr>\n      <th>3</th>\n      <td>14776</td>\n      <td>0</td>\n      <td>500</td>\n      <td>1</td>\n      <td>0</td>\n      <td>0</td>\n      <td>6952</td>\n    </tr>\n    <tr>\n      <th>4</th>\n      <td>97752</td>\n      <td>0</td>\n      <td>43300</td>\n      <td>26</td>\n      <td>2077</td>\n      <td>4</td>\n      <td>6935</td>\n    </tr>\n  </tbody>\n</table>\n</div>",
                        "text/plain": "   Balance  QualMiles  BonusMiles  BonusTrans  FlightMiles  FlightTrans  \\\n0    28143          0         174           1            0            0   \n1    19244          0         215           2            0            0   \n2    41354          0        4123           4            0            0   \n3    14776          0         500           1            0            0   \n4    97752          0       43300          26         2077            4   \n\n   DaysSinceEnroll  \n0             7000  \n1             6968  \n2             7034  \n3             6952  \n4             6935  "
                    },
                    "execution_count": 18,
                    "metadata": {},
                    "output_type": "execute_result"
                }
            ],
            "source": "flight_data.head()"
        },
        {
            "cell_type": "code",
            "execution_count": 19,
            "metadata": {},
            "outputs": [
                {
                    "data": {
                        "text/html": "<div>\n<style scoped>\n    .dataframe tbody tr th:only-of-type {\n        vertical-align: middle;\n    }\n\n    .dataframe tbody tr th {\n        vertical-align: top;\n    }\n\n    .dataframe thead th {\n        text-align: right;\n    }\n</style>\n<table border=\"1\" class=\"dataframe\">\n  <thead>\n    <tr style=\"text-align: right;\">\n      <th></th>\n      <th>Balance</th>\n      <th>QualMiles</th>\n      <th>BonusMiles</th>\n      <th>BonusTrans</th>\n      <th>FlightMiles</th>\n      <th>FlightTrans</th>\n      <th>DaysSinceEnroll</th>\n    </tr>\n  </thead>\n  <tbody>\n    <tr>\n      <th>count</th>\n      <td>3.999000e+03</td>\n      <td>3999.000000</td>\n      <td>3999.000000</td>\n      <td>3999.00000</td>\n      <td>3999.000000</td>\n      <td>3999.000000</td>\n      <td>3999.00000</td>\n    </tr>\n    <tr>\n      <th>mean</th>\n      <td>7.360133e+04</td>\n      <td>144.114529</td>\n      <td>17144.846212</td>\n      <td>11.60190</td>\n      <td>460.055764</td>\n      <td>1.373593</td>\n      <td>4118.55939</td>\n    </tr>\n    <tr>\n      <th>std</th>\n      <td>1.007757e+05</td>\n      <td>773.663804</td>\n      <td>24150.967826</td>\n      <td>9.60381</td>\n      <td>1400.209171</td>\n      <td>3.793172</td>\n      <td>2065.13454</td>\n    </tr>\n    <tr>\n      <th>min</th>\n      <td>0.000000e+00</td>\n      <td>0.000000</td>\n      <td>0.000000</td>\n      <td>0.00000</td>\n      <td>0.000000</td>\n      <td>0.000000</td>\n      <td>2.00000</td>\n    </tr>\n    <tr>\n      <th>25%</th>\n      <td>1.852750e+04</td>\n      <td>0.000000</td>\n      <td>1250.000000</td>\n      <td>3.00000</td>\n      <td>0.000000</td>\n      <td>0.000000</td>\n      <td>2330.00000</td>\n    </tr>\n    <tr>\n      <th>50%</th>\n      <td>4.309700e+04</td>\n      <td>0.000000</td>\n      <td>7171.000000</td>\n      <td>12.00000</td>\n      <td>0.000000</td>\n      <td>0.000000</td>\n      <td>4096.00000</td>\n    </tr>\n    <tr>\n      <th>75%</th>\n      <td>9.240400e+04</td>\n      <td>0.000000</td>\n      <td>23800.500000</td>\n      <td>17.00000</td>\n      <td>311.000000</td>\n      <td>1.000000</td>\n      <td>5790.50000</td>\n    </tr>\n    <tr>\n      <th>max</th>\n      <td>1.704838e+06</td>\n      <td>11148.000000</td>\n      <td>263685.000000</td>\n      <td>86.00000</td>\n      <td>30817.000000</td>\n      <td>53.000000</td>\n      <td>8296.00000</td>\n    </tr>\n  </tbody>\n</table>\n</div>",
                        "text/plain": "            Balance     QualMiles     BonusMiles  BonusTrans   FlightMiles  \\\ncount  3.999000e+03   3999.000000    3999.000000  3999.00000   3999.000000   \nmean   7.360133e+04    144.114529   17144.846212    11.60190    460.055764   \nstd    1.007757e+05    773.663804   24150.967826     9.60381   1400.209171   \nmin    0.000000e+00      0.000000       0.000000     0.00000      0.000000   \n25%    1.852750e+04      0.000000    1250.000000     3.00000      0.000000   \n50%    4.309700e+04      0.000000    7171.000000    12.00000      0.000000   \n75%    9.240400e+04      0.000000   23800.500000    17.00000    311.000000   \nmax    1.704838e+06  11148.000000  263685.000000    86.00000  30817.000000   \n\n       FlightTrans  DaysSinceEnroll  \ncount  3999.000000       3999.00000  \nmean      1.373593       4118.55939  \nstd       3.793172       2065.13454  \nmin       0.000000          2.00000  \n25%       0.000000       2330.00000  \n50%       0.000000       4096.00000  \n75%       1.000000       5790.50000  \nmax      53.000000       8296.00000  "
                    },
                    "execution_count": 19,
                    "metadata": {},
                    "output_type": "execute_result"
                }
            ],
            "source": "flight_data.describe()"
        },
        {
            "cell_type": "code",
            "execution_count": 20,
            "metadata": {},
            "outputs": [
                {
                    "data": {
                        "text/html": "<div>\n<style scoped>\n    .dataframe tbody tr th:only-of-type {\n        vertical-align: middle;\n    }\n\n    .dataframe tbody tr th {\n        vertical-align: top;\n    }\n\n    .dataframe thead th {\n        text-align: right;\n    }\n</style>\n<table border=\"1\" class=\"dataframe\">\n  <thead>\n    <tr style=\"text-align: right;\">\n      <th></th>\n      <th>Balance</th>\n      <th>QualMiles</th>\n      <th>BonusMiles</th>\n      <th>BonusTrans</th>\n      <th>FlightMiles</th>\n      <th>FlightTrans</th>\n      <th>DaysSinceEnroll</th>\n    </tr>\n  </thead>\n  <tbody>\n    <tr>\n      <th>Balance</th>\n      <td>1.000000</td>\n      <td>0.108722</td>\n      <td>0.403487</td>\n      <td>0.324935</td>\n      <td>0.217551</td>\n      <td>0.255700</td>\n      <td>0.263129</td>\n    </tr>\n    <tr>\n      <th>QualMiles</th>\n      <td>0.108722</td>\n      <td>1.000000</td>\n      <td>0.031021</td>\n      <td>0.050725</td>\n      <td>0.126774</td>\n      <td>0.144004</td>\n      <td>0.017312</td>\n    </tr>\n    <tr>\n      <th>BonusMiles</th>\n      <td>0.403487</td>\n      <td>0.031021</td>\n      <td>1.000000</td>\n      <td>0.603180</td>\n      <td>0.183536</td>\n      <td>0.185261</td>\n      <td>0.210397</td>\n    </tr>\n    <tr>\n      <th>BonusTrans</th>\n      <td>0.324935</td>\n      <td>0.050725</td>\n      <td>0.603180</td>\n      <td>1.000000</td>\n      <td>0.377216</td>\n      <td>0.432364</td>\n      <td>0.161262</td>\n    </tr>\n    <tr>\n      <th>FlightMiles</th>\n      <td>0.217551</td>\n      <td>0.126774</td>\n      <td>0.183536</td>\n      <td>0.377216</td>\n      <td>1.000000</td>\n      <td>0.869193</td>\n      <td>0.037271</td>\n    </tr>\n    <tr>\n      <th>FlightTrans</th>\n      <td>0.255700</td>\n      <td>0.144004</td>\n      <td>0.185261</td>\n      <td>0.432364</td>\n      <td>0.869193</td>\n      <td>1.000000</td>\n      <td>0.059260</td>\n    </tr>\n    <tr>\n      <th>DaysSinceEnroll</th>\n      <td>0.263129</td>\n      <td>0.017312</td>\n      <td>0.210397</td>\n      <td>0.161262</td>\n      <td>0.037271</td>\n      <td>0.059260</td>\n      <td>1.000000</td>\n    </tr>\n  </tbody>\n</table>\n</div>",
                        "text/plain": "                  Balance  QualMiles  BonusMiles  BonusTrans  FlightMiles  \\\nBalance          1.000000   0.108722    0.403487    0.324935     0.217551   \nQualMiles        0.108722   1.000000    0.031021    0.050725     0.126774   \nBonusMiles       0.403487   0.031021    1.000000    0.603180     0.183536   \nBonusTrans       0.324935   0.050725    0.603180    1.000000     0.377216   \nFlightMiles      0.217551   0.126774    0.183536    0.377216     1.000000   \nFlightTrans      0.255700   0.144004    0.185261    0.432364     0.869193   \nDaysSinceEnroll  0.263129   0.017312    0.210397    0.161262     0.037271   \n\n                 FlightTrans  DaysSinceEnroll  \nBalance             0.255700         0.263129  \nQualMiles           0.144004         0.017312  \nBonusMiles          0.185261         0.210397  \nBonusTrans          0.432364         0.161262  \nFlightMiles         0.869193         0.037271  \nFlightTrans         1.000000         0.059260  \nDaysSinceEnroll     0.059260         1.000000  "
                    },
                    "execution_count": 20,
                    "metadata": {},
                    "output_type": "execute_result"
                }
            ],
            "source": "flight_data.corr()"
        },
        {
            "cell_type": "code",
            "execution_count": 21,
            "metadata": {},
            "outputs": [
                {
                    "data": {
                        "text/html": "<div>\n<style scoped>\n    .dataframe tbody tr th:only-of-type {\n        vertical-align: middle;\n    }\n\n    .dataframe tbody tr th {\n        vertical-align: top;\n    }\n\n    .dataframe thead th {\n        text-align: right;\n    }\n</style>\n<table border=\"1\" class=\"dataframe\">\n  <thead>\n    <tr style=\"text-align: right;\">\n      <th></th>\n      <th>FlightMiles</th>\n      <th>FlightTrans</th>\n      <th>DaysSinceEnroll</th>\n    </tr>\n  </thead>\n  <tbody>\n    <tr>\n      <th>0</th>\n      <td>0</td>\n      <td>0</td>\n      <td>7000</td>\n    </tr>\n    <tr>\n      <th>1</th>\n      <td>0</td>\n      <td>0</td>\n      <td>6968</td>\n    </tr>\n    <tr>\n      <th>2</th>\n      <td>0</td>\n      <td>0</td>\n      <td>7034</td>\n    </tr>\n    <tr>\n      <th>3</th>\n      <td>0</td>\n      <td>0</td>\n      <td>6952</td>\n    </tr>\n    <tr>\n      <th>4</th>\n      <td>2077</td>\n      <td>4</td>\n      <td>6935</td>\n    </tr>\n  </tbody>\n</table>\n</div>",
                        "text/plain": "   FlightMiles  FlightTrans  DaysSinceEnroll\n0            0            0             7000\n1            0            0             6968\n2            0            0             7034\n3            0            0             6952\n4         2077            4             6935"
                    },
                    "execution_count": 21,
                    "metadata": {},
                    "output_type": "execute_result"
                }
            ],
            "source": "#subset with the required data\n#flight_subset = flight_data[['FlightMiles','FlightTrans','DaysSinceEnroll']]\nflight_subset = flight_data.loc[:,('FlightMiles','FlightTrans','DaysSinceEnroll')]\nflight_subset.head()"
        },
        {
            "cell_type": "code",
            "execution_count": 22,
            "metadata": {},
            "outputs": [
                {
                    "data": {
                        "text/plain": "KMeans(n_clusters=10, random_state=42)"
                    },
                    "execution_count": 22,
                    "metadata": {},
                    "output_type": "execute_result"
                }
            ],
            "source": "# Add the values to Input X\nflight_array = flight_subset.values\nX = flight_array[:,:3]\n#import from sklearn\nfrom sklearn.cluster import KMeans\nmodel = KMeans(n_clusters=10,random_state=42)\n#Fit the ailines data into the model\nmodel.fit(X)"
        },
        {
            "cell_type": "code",
            "execution_count": 23,
            "metadata": {},
            "outputs": [
                {
                    "data": {
                        "text/html": "<div>\n<style scoped>\n    .dataframe tbody tr th:only-of-type {\n        vertical-align: middle;\n    }\n\n    .dataframe tbody tr th {\n        vertical-align: top;\n    }\n\n    .dataframe thead th {\n        text-align: right;\n    }\n</style>\n<table border=\"1\" class=\"dataframe\">\n  <thead>\n    <tr style=\"text-align: right;\">\n      <th></th>\n      <th>FlightMiles</th>\n      <th>FlightTrans</th>\n      <th>DaysSinceEnroll</th>\n    </tr>\n  </thead>\n  <tbody>\n    <tr>\n      <th>0</th>\n      <td>132.860553</td>\n      <td>0.496231</td>\n      <td>5857.945980</td>\n    </tr>\n    <tr>\n      <th>1</th>\n      <td>136.331606</td>\n      <td>0.515544</td>\n      <td>2738.797927</td>\n    </tr>\n    <tr>\n      <th>2</th>\n      <td>6282.900000</td>\n      <td>16.375000</td>\n      <td>6274.150000</td>\n    </tr>\n    <tr>\n      <th>3</th>\n      <td>193.024554</td>\n      <td>0.712054</td>\n      <td>7473.415179</td>\n    </tr>\n    <tr>\n      <th>4</th>\n      <td>167.461451</td>\n      <td>0.614512</td>\n      <td>4266.880952</td>\n    </tr>\n    <tr>\n      <th>5</th>\n      <td>26458.500000</td>\n      <td>49.000000</td>\n      <td>2602.000000</td>\n    </tr>\n    <tr>\n      <th>6</th>\n      <td>10834.681818</td>\n      <td>23.272727</td>\n      <td>3316.772727</td>\n    </tr>\n    <tr>\n      <th>7</th>\n      <td>2357.012903</td>\n      <td>7.496774</td>\n      <td>5973.309677</td>\n    </tr>\n    <tr>\n      <th>8</th>\n      <td>3348.550000</td>\n      <td>8.875000</td>\n      <td>2509.850000</td>\n    </tr>\n    <tr>\n      <th>9</th>\n      <td>111.316273</td>\n      <td>0.455381</td>\n      <td>1345.379265</td>\n    </tr>\n  </tbody>\n</table>\n</div>",
                        "text/plain": "    FlightMiles  FlightTrans  DaysSinceEnroll\n0    132.860553     0.496231      5857.945980\n1    136.331606     0.515544      2738.797927\n2   6282.900000    16.375000      6274.150000\n3    193.024554     0.712054      7473.415179\n4    167.461451     0.614512      4266.880952\n5  26458.500000    49.000000      2602.000000\n6  10834.681818    23.272727      3316.772727\n7   2357.012903     7.496774      5973.309677\n8   3348.550000     8.875000      2509.850000\n9    111.316273     0.455381      1345.379265"
                    },
                    "execution_count": 23,
                    "metadata": {},
                    "output_type": "execute_result"
                }
            ],
            "source": "#Store the cluster centers\nflight_means = model.cluster_centers_\n\n#Data frame with the cluster centers and appropriate columns\nflight_clusters = pd.DataFrame(flight_means,columns=['FlightMiles','FlightTrans','DaysSinceEnroll'])\n\nflight_clusters"
        },
        {
            "cell_type": "code",
            "execution_count": 24,
            "metadata": {},
            "outputs": [
                {
                    "data": {
                        "text/html": "<div>\n<style scoped>\n    .dataframe tbody tr th:only-of-type {\n        vertical-align: middle;\n    }\n\n    .dataframe tbody tr th {\n        vertical-align: top;\n    }\n\n    .dataframe thead th {\n        text-align: right;\n    }\n</style>\n<table border=\"1\" class=\"dataframe\">\n  <thead>\n    <tr style=\"text-align: right;\">\n      <th></th>\n      <th>FlightMiles</th>\n      <th>FlightTrans</th>\n      <th>DaysSinceEnroll</th>\n      <th>label</th>\n    </tr>\n  </thead>\n  <tbody>\n    <tr>\n      <th>0</th>\n      <td>0</td>\n      <td>0</td>\n      <td>7000</td>\n      <td>3</td>\n    </tr>\n    <tr>\n      <th>1</th>\n      <td>0</td>\n      <td>0</td>\n      <td>6968</td>\n      <td>3</td>\n    </tr>\n    <tr>\n      <th>2</th>\n      <td>0</td>\n      <td>0</td>\n      <td>7034</td>\n      <td>3</td>\n    </tr>\n    <tr>\n      <th>3</th>\n      <td>0</td>\n      <td>0</td>\n      <td>6952</td>\n      <td>3</td>\n    </tr>\n    <tr>\n      <th>4</th>\n      <td>2077</td>\n      <td>4</td>\n      <td>6935</td>\n      <td>7</td>\n    </tr>\n  </tbody>\n</table>\n</div>",
                        "text/plain": "   FlightMiles  FlightTrans  DaysSinceEnroll  label\n0            0            0             7000      3\n1            0            0             6968      3\n2            0            0             7034      3\n3            0            0             6952      3\n4         2077            4             6935      7"
                    },
                    "execution_count": 24,
                    "metadata": {},
                    "output_type": "execute_result"
                }
            ],
            "source": "#Add lables from the model to the subset\nflight_subset['label'] = model.labels_\nflight_subset.head()"
        },
        {
            "cell_type": "code",
            "execution_count": 25,
            "metadata": {},
            "outputs": [
                {
                    "data": {
                        "text/html": "<div>\n<style scoped>\n    .dataframe tbody tr th:only-of-type {\n        vertical-align: middle;\n    }\n\n    .dataframe tbody tr th {\n        vertical-align: top;\n    }\n\n    .dataframe thead th {\n        text-align: right;\n    }\n</style>\n<table border=\"1\" class=\"dataframe\">\n  <thead>\n    <tr style=\"text-align: right;\">\n      <th></th>\n      <th>FlightMiles</th>\n      <th>FlightTrans</th>\n      <th>DaysSinceEnroll</th>\n      <th>label</th>\n    </tr>\n  </thead>\n  <tbody>\n    <tr>\n      <th>4</th>\n      <td>2077</td>\n      <td>4</td>\n      <td>6935</td>\n      <td>7</td>\n    </tr>\n    <tr>\n      <th>8</th>\n      <td>3850</td>\n      <td>12</td>\n      <td>6948</td>\n      <td>7</td>\n    </tr>\n    <tr>\n      <th>21</th>\n      <td>1800</td>\n      <td>9</td>\n      <td>6896</td>\n      <td>7</td>\n    </tr>\n    <tr>\n      <th>22</th>\n      <td>3450</td>\n      <td>11</td>\n      <td>6884</td>\n      <td>7</td>\n    </tr>\n    <tr>\n      <th>35</th>\n      <td>2500</td>\n      <td>5</td>\n      <td>7865</td>\n      <td>7</td>\n    </tr>\n    <tr>\n      <th>...</th>\n      <td>...</td>\n      <td>...</td>\n      <td>...</td>\n      <td>...</td>\n    </tr>\n    <tr>\n      <th>2009</th>\n      <td>1800</td>\n      <td>4</td>\n      <td>4537</td>\n      <td>7</td>\n    </tr>\n    <tr>\n      <th>2021</th>\n      <td>2500</td>\n      <td>5</td>\n      <td>4440</td>\n      <td>7</td>\n    </tr>\n    <tr>\n      <th>2049</th>\n      <td>1850</td>\n      <td>11</td>\n      <td>4608</td>\n      <td>7</td>\n    </tr>\n    <tr>\n      <th>2094</th>\n      <td>2000</td>\n      <td>4</td>\n      <td>4245</td>\n      <td>7</td>\n    </tr>\n    <tr>\n      <th>2162</th>\n      <td>2197</td>\n      <td>4</td>\n      <td>4190</td>\n      <td>7</td>\n    </tr>\n  </tbody>\n</table>\n<p>155 rows \u00d7 4 columns</p>\n</div>",
                        "text/plain": "      FlightMiles  FlightTrans  DaysSinceEnroll  label\n4            2077            4             6935      7\n8            3850           12             6948      7\n21           1800            9             6896      7\n22           3450           11             6884      7\n35           2500            5             7865      7\n...           ...          ...              ...    ...\n2009         1800            4             4537      7\n2021         2500            5             4440      7\n2049         1850           11             4608      7\n2094         2000            4             4245      7\n2162         2197            4             4190      7\n\n[155 rows x 4 columns]"
                    },
                    "execution_count": 25,
                    "metadata": {},
                    "output_type": "execute_result"
                }
            ],
            "source": "#Proceed to view data from whichever label\nflight_view = flight_subset[flight_subset['label']==7]\nflight_view"
        },
        {
            "cell_type": "code",
            "execution_count": null,
            "metadata": {},
            "outputs": [],
            "source": ""
        }
    ],
    "metadata": {
        "kernelspec": {
            "display_name": "Python 3.7",
            "language": "python",
            "name": "python3"
        },
        "language_info": {
            "codemirror_mode": {
                "name": "ipython",
                "version": 3
            },
            "file_extension": ".py",
            "mimetype": "text/x-python",
            "name": "python",
            "nbconvert_exporter": "python",
            "pygments_lexer": "ipython3",
            "version": "3.7.9"
        }
    },
    "nbformat": 4,
    "nbformat_minor": 1
}