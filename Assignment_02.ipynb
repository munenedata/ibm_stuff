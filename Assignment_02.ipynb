{
    "cells": [
        {
            "cell_type": "markdown",
            "metadata": {
                "collapsed": true
            },
            "source": "Stephen Munene\n\n0712291940\n\nmunesteve@gmail.com\n\nPima Indians classification assignment"
        },
        {
            "cell_type": "code",
            "execution_count": 36,
            "metadata": {},
            "outputs": [
                {
                    "data": {
                        "text/html": "<div>\n<style scoped>\n    .dataframe tbody tr th:only-of-type {\n        vertical-align: middle;\n    }\n\n    .dataframe tbody tr th {\n        vertical-align: top;\n    }\n\n    .dataframe thead th {\n        text-align: right;\n    }\n</style>\n<table border=\"1\" class=\"dataframe\">\n  <thead>\n    <tr style=\"text-align: right;\">\n      <th></th>\n      <th>Pregnancies</th>\n      <th>Glucose</th>\n      <th>BloodPressure</th>\n      <th>SkinThickness</th>\n      <th>Insulin</th>\n      <th>BMI</th>\n      <th>DiabetesPedigreeFunction</th>\n      <th>Age</th>\n      <th>Outcome</th>\n    </tr>\n  </thead>\n  <tbody>\n    <tr>\n      <th>0</th>\n      <td>6</td>\n      <td>148</td>\n      <td>72</td>\n      <td>35</td>\n      <td>0</td>\n      <td>33.6</td>\n      <td>0.627</td>\n      <td>50</td>\n      <td>1</td>\n    </tr>\n    <tr>\n      <th>1</th>\n      <td>1</td>\n      <td>85</td>\n      <td>66</td>\n      <td>29</td>\n      <td>0</td>\n      <td>26.6</td>\n      <td>0.351</td>\n      <td>31</td>\n      <td>0</td>\n    </tr>\n    <tr>\n      <th>2</th>\n      <td>8</td>\n      <td>183</td>\n      <td>64</td>\n      <td>0</td>\n      <td>0</td>\n      <td>23.3</td>\n      <td>0.672</td>\n      <td>32</td>\n      <td>1</td>\n    </tr>\n    <tr>\n      <th>3</th>\n      <td>1</td>\n      <td>89</td>\n      <td>66</td>\n      <td>23</td>\n      <td>94</td>\n      <td>28.1</td>\n      <td>0.167</td>\n      <td>21</td>\n      <td>0</td>\n    </tr>\n    <tr>\n      <th>4</th>\n      <td>0</td>\n      <td>137</td>\n      <td>40</td>\n      <td>35</td>\n      <td>168</td>\n      <td>43.1</td>\n      <td>2.288</td>\n      <td>33</td>\n      <td>1</td>\n    </tr>\n    <tr>\n      <th>...</th>\n      <td>...</td>\n      <td>...</td>\n      <td>...</td>\n      <td>...</td>\n      <td>...</td>\n      <td>...</td>\n      <td>...</td>\n      <td>...</td>\n      <td>...</td>\n    </tr>\n    <tr>\n      <th>763</th>\n      <td>10</td>\n      <td>101</td>\n      <td>76</td>\n      <td>48</td>\n      <td>180</td>\n      <td>32.9</td>\n      <td>0.171</td>\n      <td>63</td>\n      <td>0</td>\n    </tr>\n    <tr>\n      <th>764</th>\n      <td>2</td>\n      <td>122</td>\n      <td>70</td>\n      <td>27</td>\n      <td>0</td>\n      <td>36.8</td>\n      <td>0.340</td>\n      <td>27</td>\n      <td>0</td>\n    </tr>\n    <tr>\n      <th>765</th>\n      <td>5</td>\n      <td>121</td>\n      <td>72</td>\n      <td>23</td>\n      <td>112</td>\n      <td>26.2</td>\n      <td>0.245</td>\n      <td>30</td>\n      <td>0</td>\n    </tr>\n    <tr>\n      <th>766</th>\n      <td>1</td>\n      <td>126</td>\n      <td>60</td>\n      <td>0</td>\n      <td>0</td>\n      <td>30.1</td>\n      <td>0.349</td>\n      <td>47</td>\n      <td>1</td>\n    </tr>\n    <tr>\n      <th>767</th>\n      <td>1</td>\n      <td>93</td>\n      <td>70</td>\n      <td>31</td>\n      <td>0</td>\n      <td>30.4</td>\n      <td>0.315</td>\n      <td>23</td>\n      <td>0</td>\n    </tr>\n  </tbody>\n</table>\n<p>768 rows \u00d7 9 columns</p>\n</div>",
                        "text/plain": "     Pregnancies  Glucose  BloodPressure  SkinThickness  Insulin   BMI  \\\n0              6      148             72             35        0  33.6   \n1              1       85             66             29        0  26.6   \n2              8      183             64              0        0  23.3   \n3              1       89             66             23       94  28.1   \n4              0      137             40             35      168  43.1   \n..           ...      ...            ...            ...      ...   ...   \n763           10      101             76             48      180  32.9   \n764            2      122             70             27        0  36.8   \n765            5      121             72             23      112  26.2   \n766            1      126             60              0        0  30.1   \n767            1       93             70             31        0  30.4   \n\n     DiabetesPedigreeFunction  Age  Outcome  \n0                       0.627   50        1  \n1                       0.351   31        0  \n2                       0.672   32        1  \n3                       0.167   21        0  \n4                       2.288   33        1  \n..                        ...  ...      ...  \n763                     0.171   63        0  \n764                     0.340   27        0  \n765                     0.245   30        0  \n766                     0.349   47        1  \n767                     0.315   23        0  \n\n[768 rows x 9 columns]"
                    },
                    "execution_count": 36,
                    "metadata": {},
                    "output_type": "execute_result"
                }
            ],
            "source": "import pandas as pd\n\npima_data = pd.read_csv('https://modcom.co.ke/data/datasets/pima.csv')\npima_data"
        },
        {
            "cell_type": "code",
            "execution_count": 37,
            "metadata": {},
            "outputs": [
                {
                    "data": {
                        "text/html": "<div>\n<style scoped>\n    .dataframe tbody tr th:only-of-type {\n        vertical-align: middle;\n    }\n\n    .dataframe tbody tr th {\n        vertical-align: top;\n    }\n\n    .dataframe thead th {\n        text-align: right;\n    }\n</style>\n<table border=\"1\" class=\"dataframe\">\n  <thead>\n    <tr style=\"text-align: right;\">\n      <th></th>\n      <th>Pregnancies</th>\n      <th>Glucose</th>\n      <th>BloodPressure</th>\n      <th>SkinThickness</th>\n      <th>Insulin</th>\n      <th>BMI</th>\n      <th>DiabetesPedigreeFunction</th>\n      <th>Age</th>\n      <th>Outcome</th>\n    </tr>\n  </thead>\n  <tbody>\n    <tr>\n      <th>count</th>\n      <td>768.000000</td>\n      <td>768.000000</td>\n      <td>768.000000</td>\n      <td>768.000000</td>\n      <td>768.000000</td>\n      <td>768.000000</td>\n      <td>768.000000</td>\n      <td>768.000000</td>\n      <td>768.000000</td>\n    </tr>\n    <tr>\n      <th>mean</th>\n      <td>3.845052</td>\n      <td>120.894531</td>\n      <td>69.105469</td>\n      <td>20.536458</td>\n      <td>79.799479</td>\n      <td>31.992578</td>\n      <td>0.471876</td>\n      <td>33.240885</td>\n      <td>0.348958</td>\n    </tr>\n    <tr>\n      <th>std</th>\n      <td>3.369578</td>\n      <td>31.972618</td>\n      <td>19.355807</td>\n      <td>15.952218</td>\n      <td>115.244002</td>\n      <td>7.884160</td>\n      <td>0.331329</td>\n      <td>11.760232</td>\n      <td>0.476951</td>\n    </tr>\n    <tr>\n      <th>min</th>\n      <td>0.000000</td>\n      <td>0.000000</td>\n      <td>0.000000</td>\n      <td>0.000000</td>\n      <td>0.000000</td>\n      <td>0.000000</td>\n      <td>0.078000</td>\n      <td>21.000000</td>\n      <td>0.000000</td>\n    </tr>\n    <tr>\n      <th>25%</th>\n      <td>1.000000</td>\n      <td>99.000000</td>\n      <td>62.000000</td>\n      <td>0.000000</td>\n      <td>0.000000</td>\n      <td>27.300000</td>\n      <td>0.243750</td>\n      <td>24.000000</td>\n      <td>0.000000</td>\n    </tr>\n    <tr>\n      <th>50%</th>\n      <td>3.000000</td>\n      <td>117.000000</td>\n      <td>72.000000</td>\n      <td>23.000000</td>\n      <td>30.500000</td>\n      <td>32.000000</td>\n      <td>0.372500</td>\n      <td>29.000000</td>\n      <td>0.000000</td>\n    </tr>\n    <tr>\n      <th>75%</th>\n      <td>6.000000</td>\n      <td>140.250000</td>\n      <td>80.000000</td>\n      <td>32.000000</td>\n      <td>127.250000</td>\n      <td>36.600000</td>\n      <td>0.626250</td>\n      <td>41.000000</td>\n      <td>1.000000</td>\n    </tr>\n    <tr>\n      <th>max</th>\n      <td>17.000000</td>\n      <td>199.000000</td>\n      <td>122.000000</td>\n      <td>99.000000</td>\n      <td>846.000000</td>\n      <td>67.100000</td>\n      <td>2.420000</td>\n      <td>81.000000</td>\n      <td>1.000000</td>\n    </tr>\n  </tbody>\n</table>\n</div>",
                        "text/plain": "       Pregnancies     Glucose  BloodPressure  SkinThickness     Insulin  \\\ncount   768.000000  768.000000     768.000000     768.000000  768.000000   \nmean      3.845052  120.894531      69.105469      20.536458   79.799479   \nstd       3.369578   31.972618      19.355807      15.952218  115.244002   \nmin       0.000000    0.000000       0.000000       0.000000    0.000000   \n25%       1.000000   99.000000      62.000000       0.000000    0.000000   \n50%       3.000000  117.000000      72.000000      23.000000   30.500000   \n75%       6.000000  140.250000      80.000000      32.000000  127.250000   \nmax      17.000000  199.000000     122.000000      99.000000  846.000000   \n\n              BMI  DiabetesPedigreeFunction         Age     Outcome  \ncount  768.000000                768.000000  768.000000  768.000000  \nmean    31.992578                  0.471876   33.240885    0.348958  \nstd      7.884160                  0.331329   11.760232    0.476951  \nmin      0.000000                  0.078000   21.000000    0.000000  \n25%     27.300000                  0.243750   24.000000    0.000000  \n50%     32.000000                  0.372500   29.000000    0.000000  \n75%     36.600000                  0.626250   41.000000    1.000000  \nmax     67.100000                  2.420000   81.000000    1.000000  "
                    },
                    "execution_count": 37,
                    "metadata": {},
                    "output_type": "execute_result"
                }
            ],
            "source": "pima_data.describe()"
        },
        {
            "cell_type": "code",
            "execution_count": 38,
            "metadata": {},
            "outputs": [
                {
                    "data": {
                        "text/html": "<div>\n<style scoped>\n    .dataframe tbody tr th:only-of-type {\n        vertical-align: middle;\n    }\n\n    .dataframe tbody tr th {\n        vertical-align: top;\n    }\n\n    .dataframe thead th {\n        text-align: right;\n    }\n</style>\n<table border=\"1\" class=\"dataframe\">\n  <thead>\n    <tr style=\"text-align: right;\">\n      <th></th>\n      <th>Pregnancies</th>\n      <th>Glucose</th>\n      <th>BloodPressure</th>\n      <th>SkinThickness</th>\n      <th>Insulin</th>\n      <th>BMI</th>\n      <th>DiabetesPedigreeFunction</th>\n      <th>Age</th>\n      <th>Outcome</th>\n    </tr>\n  </thead>\n  <tbody>\n    <tr>\n      <th>Pregnancies</th>\n      <td>1.000000</td>\n      <td>0.129459</td>\n      <td>0.141282</td>\n      <td>-0.081672</td>\n      <td>-0.073535</td>\n      <td>0.017683</td>\n      <td>-0.033523</td>\n      <td>0.544341</td>\n      <td>0.221898</td>\n    </tr>\n    <tr>\n      <th>Glucose</th>\n      <td>0.129459</td>\n      <td>1.000000</td>\n      <td>0.152590</td>\n      <td>0.057328</td>\n      <td>0.331357</td>\n      <td>0.221071</td>\n      <td>0.137337</td>\n      <td>0.263514</td>\n      <td>0.466581</td>\n    </tr>\n    <tr>\n      <th>BloodPressure</th>\n      <td>0.141282</td>\n      <td>0.152590</td>\n      <td>1.000000</td>\n      <td>0.207371</td>\n      <td>0.088933</td>\n      <td>0.281805</td>\n      <td>0.041265</td>\n      <td>0.239528</td>\n      <td>0.065068</td>\n    </tr>\n    <tr>\n      <th>SkinThickness</th>\n      <td>-0.081672</td>\n      <td>0.057328</td>\n      <td>0.207371</td>\n      <td>1.000000</td>\n      <td>0.436783</td>\n      <td>0.392573</td>\n      <td>0.183928</td>\n      <td>-0.113970</td>\n      <td>0.074752</td>\n    </tr>\n    <tr>\n      <th>Insulin</th>\n      <td>-0.073535</td>\n      <td>0.331357</td>\n      <td>0.088933</td>\n      <td>0.436783</td>\n      <td>1.000000</td>\n      <td>0.197859</td>\n      <td>0.185071</td>\n      <td>-0.042163</td>\n      <td>0.130548</td>\n    </tr>\n    <tr>\n      <th>BMI</th>\n      <td>0.017683</td>\n      <td>0.221071</td>\n      <td>0.281805</td>\n      <td>0.392573</td>\n      <td>0.197859</td>\n      <td>1.000000</td>\n      <td>0.140647</td>\n      <td>0.036242</td>\n      <td>0.292695</td>\n    </tr>\n    <tr>\n      <th>DiabetesPedigreeFunction</th>\n      <td>-0.033523</td>\n      <td>0.137337</td>\n      <td>0.041265</td>\n      <td>0.183928</td>\n      <td>0.185071</td>\n      <td>0.140647</td>\n      <td>1.000000</td>\n      <td>0.033561</td>\n      <td>0.173844</td>\n    </tr>\n    <tr>\n      <th>Age</th>\n      <td>0.544341</td>\n      <td>0.263514</td>\n      <td>0.239528</td>\n      <td>-0.113970</td>\n      <td>-0.042163</td>\n      <td>0.036242</td>\n      <td>0.033561</td>\n      <td>1.000000</td>\n      <td>0.238356</td>\n    </tr>\n    <tr>\n      <th>Outcome</th>\n      <td>0.221898</td>\n      <td>0.466581</td>\n      <td>0.065068</td>\n      <td>0.074752</td>\n      <td>0.130548</td>\n      <td>0.292695</td>\n      <td>0.173844</td>\n      <td>0.238356</td>\n      <td>1.000000</td>\n    </tr>\n  </tbody>\n</table>\n</div>",
                        "text/plain": "                          Pregnancies   Glucose  BloodPressure  SkinThickness  \\\nPregnancies                  1.000000  0.129459       0.141282      -0.081672   \nGlucose                      0.129459  1.000000       0.152590       0.057328   \nBloodPressure                0.141282  0.152590       1.000000       0.207371   \nSkinThickness               -0.081672  0.057328       0.207371       1.000000   \nInsulin                     -0.073535  0.331357       0.088933       0.436783   \nBMI                          0.017683  0.221071       0.281805       0.392573   \nDiabetesPedigreeFunction    -0.033523  0.137337       0.041265       0.183928   \nAge                          0.544341  0.263514       0.239528      -0.113970   \nOutcome                      0.221898  0.466581       0.065068       0.074752   \n\n                           Insulin       BMI  DiabetesPedigreeFunction  \\\nPregnancies              -0.073535  0.017683                 -0.033523   \nGlucose                   0.331357  0.221071                  0.137337   \nBloodPressure             0.088933  0.281805                  0.041265   \nSkinThickness             0.436783  0.392573                  0.183928   \nInsulin                   1.000000  0.197859                  0.185071   \nBMI                       0.197859  1.000000                  0.140647   \nDiabetesPedigreeFunction  0.185071  0.140647                  1.000000   \nAge                      -0.042163  0.036242                  0.033561   \nOutcome                   0.130548  0.292695                  0.173844   \n\n                               Age   Outcome  \nPregnancies               0.544341  0.221898  \nGlucose                   0.263514  0.466581  \nBloodPressure             0.239528  0.065068  \nSkinThickness            -0.113970  0.074752  \nInsulin                  -0.042163  0.130548  \nBMI                       0.036242  0.292695  \nDiabetesPedigreeFunction  0.033561  0.173844  \nAge                       1.000000  0.238356  \nOutcome                   0.238356  1.000000  "
                    },
                    "execution_count": 38,
                    "metadata": {},
                    "output_type": "execute_result"
                }
            ],
            "source": "pima_data.corr()"
        },
        {
            "cell_type": "code",
            "execution_count": 39,
            "metadata": {},
            "outputs": [
                {
                    "name": "stdout",
                    "output_type": "stream",
                    "text": "LR 0.7654437456324248\nLDA 0.7729559748427673\nKNN 0.7208944793850453\nDT 0.7244933612858141\nNB 0.7507686932215234\nSVM 0.6498602375960866\nRF 0.7728860936408106\nGB 0.7691125087351502\n"
                }
            ],
            "source": "#Get X and Y from the data (Input and Outcome) split the data into 70% training and 30% testing\n\npv = pima_data.values #Values from the original data\nX = pv[:,:8] #All rows 7 cols \nY = pv[:,8] #all rows last col (outcome)\n\n#dsplit into 70% training 30%testing\nfrom sklearn import model_selection\n\nX_train,X_test,Y_train,Y_test = model_selection.train_test_split(X,Y, test_size = 0.30, random_state=42)\n\n#import several classification models for crossvalidation\nfrom sklearn.tree import DecisionTreeClassifier\nfrom sklearn.naive_bayes import GaussianNB\nfrom sklearn.svm import SVC\nfrom sklearn.ensemble import RandomForestClassifier\nfrom sklearn.ensemble import GradientBoostingClassifier\nfrom sklearn.linear_model import LogisticRegression\nfrom sklearn.discriminant_analysis import LinearDiscriminantAnalysis\nfrom sklearn.neighbors import KNeighborsClassifier\n\n#crossvalidate the model\nmodels = []\nmodels.append(('LR', LogisticRegression(solver='liblinear', multi_class='ovr')))\nmodels.append(('LDA', LinearDiscriminantAnalysis()))\nmodels.append(('KNN', KNeighborsClassifier()))\nmodels.append(('DT', DecisionTreeClassifier()))\nmodels.append(('NB', GaussianNB()))\nmodels.append(('SVM', SVC(gamma='auto')))\nmodels.append(('RF', RandomForestClassifier()))\nmodels.append(('GB', GradientBoostingClassifier()))\n\n# evaluate each model in turn\nfor name, model in models:\n      kfold = model_selection.KFold(n_splits=10, random_state=42, shuffle=True)\n      cv_results = model_selection.cross_val_score(model, X_train, Y_train, cv=kfold, scoring='accuracy')\n      print(name, cv_results.mean())"
        },
        {
            "cell_type": "markdown",
            "metadata": {},
            "source": "Best performing model appears to be LinearDiscriminantAnalysis with a 77.3% accuracy"
        },
        {
            "cell_type": "code",
            "execution_count": 40,
            "metadata": {},
            "outputs": [
                {
                    "name": "stdout",
                    "output_type": "stream",
                    "text": "\t \t Model Predictions \n [0. 0. 0. 0. 1. 0. 0. 1. 1. 1. 0. 1. 0. 0. 0. 0. 0. 0. 1. 1. 0. 0. 0. 0.\n 1. 1. 0. 0. 0. 0. 1. 1. 1. 1. 1. 1. 1. 0. 1. 1. 0. 1. 1. 0. 0. 1. 1. 0.\n 0. 1. 0. 1. 1. 0. 0. 0. 1. 0. 0. 1. 1. 0. 0. 0. 0. 1. 0. 1. 0. 1. 1. 0.\n 0. 0. 0. 1. 0. 0. 0. 0. 1. 0. 0. 0. 0. 1. 1. 0. 0. 0. 0. 0. 0. 1. 0. 1.\n 0. 0. 1. 0. 1. 0. 1. 1. 1. 0. 0. 1. 0. 0. 0. 0. 0. 1. 0. 0. 1. 0. 0. 1.\n 0. 0. 0. 0. 0. 0. 0. 1. 1. 1. 1. 1. 0. 0. 1. 0. 0. 1. 1. 0. 0. 0. 0. 0.\n 0. 0. 0. 0. 0. 1. 0. 0. 0. 0. 0. 0. 0. 1. 1. 0. 0. 1. 0. 0. 0. 1. 0. 0.\n 1. 1. 1. 0. 0. 1. 1. 0. 0. 0. 0. 0. 1. 1. 0. 1. 1. 0. 0. 0. 1. 0. 0. 0.\n 1. 0. 0. 0. 0. 0. 0. 1. 0. 0. 0. 0. 1. 0. 0. 0. 1. 1. 0. 0. 0. 0. 1. 0.\n 1. 0. 0. 1. 1. 0. 0. 0. 0. 1. 0. 0. 0. 0. 0.]\n\n \t\t Expected results \n [0. 0. 0. 0. 0. 0. 0. 0. 0. 0. 1. 0. 1. 0. 0. 1. 0. 0. 1. 1. 0. 0. 0. 0.\n 0. 1. 0. 0. 1. 0. 1. 1. 1. 1. 0. 1. 1. 1. 0. 1. 0. 0. 0. 1. 0. 1. 1. 0.\n 0. 0. 0. 1. 1. 1. 0. 0. 0. 0. 0. 1. 1. 0. 0. 1. 0. 0. 0. 1. 0. 1. 0. 0.\n 0. 1. 0. 0. 0. 0. 0. 0. 1. 1. 0. 0. 0. 1. 1. 1. 0. 0. 0. 0. 0. 1. 0. 0.\n 0. 0. 1. 0. 0. 0. 1. 0. 1. 0. 0. 1. 1. 1. 0. 0. 0. 1. 0. 0. 1. 0. 0. 0.\n 0. 0. 1. 0. 0. 0. 1. 1. 1. 0. 1. 1. 0. 1. 1. 0. 1. 1. 1. 0. 0. 0. 0. 0.\n 0. 0. 1. 0. 0. 1. 0. 0. 1. 0. 0. 1. 0. 0. 1. 0. 1. 1. 0. 0. 0. 1. 0. 0.\n 0. 1. 0. 1. 1. 0. 0. 0. 0. 0. 1. 1. 0. 0. 0. 1. 1. 0. 0. 0. 1. 0. 1. 0.\n 1. 0. 0. 0. 0. 0. 1. 1. 0. 0. 1. 0. 0. 0. 0. 0. 1. 1. 0. 0. 0. 0. 1. 0.\n 0. 1. 0. 0. 1. 0. 0. 0. 0. 0. 1. 1. 0. 0. 0.]\n"
                }
            ],
            "source": "#proceed to fit the best performong model from the ones tested \n\nmodel = LinearDiscriminantAnalysis()\nmodel.fit(X_train,Y_train)\n\n#Test the model\npredictions = model.predict(X_test)\n\n#overview on performance\n\nprint('\\t \\t Model Predictions \\n',predictions)\n\nprint('\\n \\t\\t Expected results \\n', Y_test)"
        },
        {
            "cell_type": "code",
            "execution_count": 41,
            "metadata": {},
            "outputs": [
                {
                    "name": "stdout",
                    "output_type": "stream",
                    "text": "Model Test accuracy 0.7316017316017316\n"
                }
            ],
            "source": "#Deeper look at the model performance\n\nfrom sklearn.metrics import accuracy_score\nprint('Model Test accuracy', accuracy_score(Y_test,predictions))"
        },
        {
            "cell_type": "markdown",
            "metadata": {},
            "source": "Model got a 73.1% accuracy score with the Test data compared to the 77.3% accuracy score in training.\nTaking a deeper look"
        },
        {
            "cell_type": "code",
            "execution_count": 42,
            "metadata": {},
            "outputs": [
                {
                    "name": "stdout",
                    "output_type": "stream",
                    "text": "              precision    recall  f1-score   support\n\n         0.0       0.79      0.79      0.79       151\n         1.0       0.61      0.61      0.61        80\n\n    accuracy                           0.73       231\n   macro avg       0.70      0.70      0.70       231\nweighted avg       0.73      0.73      0.73       231\n\n"
                }
            ],
            "source": "# report on the model performance\nfrom sklearn.metrics import classification_report\nprint(classification_report(Y_test,predictions))"
        },
        {
            "cell_type": "markdown",
            "metadata": {},
            "source": "From the report above, it can be noted that LinearDiscriminantAnalysis got a 79% precision score on negative tests and a 61% precision score on the positive score. which give the weighted average accuracy score of 73% observed before."
        },
        {
            "cell_type": "code",
            "execution_count": 43,
            "metadata": {},
            "outputs": [
                {
                    "name": "stdout",
                    "output_type": "stream",
                    "text": "[[120  31]\n [ 31  49]]\n"
                }
            ],
            "source": "#report on where the model went wrong the actual numbers on how many were right or wrong.\nfrom sklearn.metrics import confusion_matrix\nprint( confusion_matrix(Y_test,predictions))"
        },
        {
            "cell_type": "markdown",
            "metadata": {},
            "source": "From the above confusion matrix, it can be noted that LinearDiscriminantAnalysis on the negative outcome got 120 out of the possible 151 predictions right, and got 31 wrong giving us a 79% precision score.\nHowever, on the positive outcome got 61 out of the possible 80 right, and git 31 wrong giving us a 61% accuracy score.\n"
        },
        {
            "cell_type": "code",
            "execution_count": 44,
            "metadata": {},
            "outputs": [
                {
                    "name": "stdout",
                    "output_type": "stream",
                    "text": "\t \t Model Predictions \n [0. 0. 0. 0. 1. 0. 0. 1. 1. 1. 0. 1. 0. 0. 0. 0. 0. 0. 1. 1. 0. 0. 0. 0.\n 1. 1. 0. 0. 0. 0. 1. 1. 1. 1. 1. 1. 1. 0. 1. 1. 0. 1. 1. 0. 0. 1. 1. 0.\n 0. 1. 0. 1. 1. 0. 0. 0. 1. 0. 0. 1. 1. 0. 0. 0. 0. 1. 0. 1. 0. 1. 1. 0.\n 0. 0. 0. 1. 0. 0. 0. 0. 1. 0. 0. 0. 0. 1. 1. 0. 0. 0. 0. 0. 0. 1. 0. 1.\n 0. 0. 1. 0. 1. 0. 1. 1. 1. 0. 0. 1. 0. 0. 0. 0. 0. 1. 0. 0. 1. 0. 0. 1.\n 0. 0. 0. 0. 0. 0. 0. 1. 1. 1. 1. 1. 0. 0. 1. 0. 0. 1. 1. 0. 0. 0. 0. 0.\n 0. 0. 0. 0. 0. 1. 0. 0. 0. 0. 0. 0. 0. 1. 1. 0. 0. 1. 0. 0. 0. 1. 0. 0.\n 1. 1. 1. 0. 0. 1. 1. 0. 0. 0. 0. 0. 1. 1. 0. 1. 1. 0. 0. 0. 1. 0. 0. 0.\n 1. 0. 0. 0. 0. 0. 0. 1. 0. 0. 0. 0. 1. 0. 0. 0. 1. 1. 0. 0. 0. 0. 1. 0.\n 1. 0. 0. 1. 1. 0. 0. 0. 0. 1. 0. 0. 0. 0. 0.]\n\n \t\t Expected results \n [0. 0. 0. 0. 0. 0. 0. 0. 0. 0. 1. 0. 1. 0. 0. 1. 0. 0. 1. 1. 0. 0. 0. 0.\n 0. 1. 0. 0. 1. 0. 1. 1. 1. 1. 0. 1. 1. 1. 0. 1. 0. 0. 0. 1. 0. 1. 1. 0.\n 0. 0. 0. 1. 1. 1. 0. 0. 0. 0. 0. 1. 1. 0. 0. 1. 0. 0. 0. 1. 0. 1. 0. 0.\n 0. 1. 0. 0. 0. 0. 0. 0. 1. 1. 0. 0. 0. 1. 1. 1. 0. 0. 0. 0. 0. 1. 0. 0.\n 0. 0. 1. 0. 0. 0. 1. 0. 1. 0. 0. 1. 1. 1. 0. 0. 0. 1. 0. 0. 1. 0. 0. 0.\n 0. 0. 1. 0. 0. 0. 1. 1. 1. 0. 1. 1. 0. 1. 1. 0. 1. 1. 1. 0. 0. 0. 0. 0.\n 0. 0. 1. 0. 0. 1. 0. 0. 1. 0. 0. 1. 0. 0. 1. 0. 1. 1. 0. 0. 0. 1. 0. 0.\n 0. 1. 0. 1. 1. 0. 0. 0. 0. 0. 1. 1. 0. 0. 0. 1. 1. 0. 0. 0. 1. 0. 1. 0.\n 1. 0. 0. 0. 0. 0. 1. 1. 0. 0. 1. 0. 0. 0. 0. 0. 1. 1. 0. 0. 0. 0. 1. 0.\n 0. 1. 0. 0. 1. 0. 0. 0. 0. 0. 1. 1. 0. 0. 0.]\n"
                }
            ],
            "source": "#testing out the second best performing model the RandomForestClassifier\nrf_model = RandomForestClassifier()\n\nrf_model.fit(X_train,Y_train)\n\n#testing out the model \nrf_predictions = model.predict(X_test)\n\n#overview on performance\n\nprint('\\t \\t Model Predictions \\n',rf_predictions)\n\nprint('\\n \\t\\t Expected results \\n', Y_test)"
        },
        {
            "cell_type": "code",
            "execution_count": 45,
            "metadata": {},
            "outputs": [
                {
                    "name": "stdout",
                    "output_type": "stream",
                    "text": "Model Test accuracy 0.7316017316017316\n"
                }
            ],
            "source": "#Deeper look at the model performance\n\nfrom sklearn.metrics import accuracy_score\nprint('Model Test accuracy', accuracy_score(Y_test,rf_predictions))"
        },
        {
            "cell_type": "markdown",
            "metadata": {},
            "source": "Model got a 73.1% accuracy score with the Test data compared to the 77.1% accuracy score in training.\nTaking a deeper look"
        },
        {
            "cell_type": "code",
            "execution_count": 46,
            "metadata": {},
            "outputs": [
                {
                    "name": "stdout",
                    "output_type": "stream",
                    "text": "              precision    recall  f1-score   support\n\n         0.0       0.79      0.79      0.79       151\n         1.0       0.61      0.61      0.61        80\n\n    accuracy                           0.73       231\n   macro avg       0.70      0.70      0.70       231\nweighted avg       0.73      0.73      0.73       231\n\n"
                }
            ],
            "source": "# report on the model performance\nfrom sklearn.metrics import classification_report\nprint(classification_report(Y_test,rf_predictions))"
        },
        {
            "cell_type": "markdown",
            "metadata": {},
            "source": "From the report above, it can be noted that RandomForestClassifier got a 79% precision score on negative tests and a 61% precision score on the positive score. which give the weighted average accuracy score of 73% observed before.\n"
        },
        {
            "cell_type": "code",
            "execution_count": 47,
            "metadata": {},
            "outputs": [
                {
                    "name": "stdout",
                    "output_type": "stream",
                    "text": "[[120  31]\n [ 31  49]]\n"
                }
            ],
            "source": "#report on where the model went wrong the actual numbers on how many were right or wrong.\nfrom sklearn.metrics import confusion_matrix\nprint( confusion_matrix(Y_test,rf_predictions))"
        },
        {
            "cell_type": "markdown",
            "metadata": {},
            "source": "From the above confusion matrix, it can be noted that RandomForestClassifier on the negative outcome got 120 out of the possible 151 predictions right, and got 31 wrong giving us a 79% precision score. However, on the positive outcome got 61 out of the possible 80 right, and git 31 wrong giving us a 61% accuracy score.\n"
        },
        {
            "cell_type": "markdown",
            "metadata": {},
            "source": "##### Performance of the two models was quite similar tetsing them out on new data"
        },
        {
            "cell_type": "code",
            "execution_count": 48,
            "metadata": {},
            "outputs": [
                {
                    "name": "stdout",
                    "output_type": "stream",
                    "text": "LinearDiscriminantAnalysis predictions on the new data is likely \t [0. 0. 1. 1.] \n\nRandomForestClassifier predictions on the new data is likely \t\t [0. 0. 1. 1.]\n"
                }
            ],
            "source": "newdata = [[4,120,69,20,79,31,0.47,33],[3,117,72,23,30,32,0.37,29],[17,199,122,99,846,67,2.42,81],[6,140,80,32,127,36,0.62,41]]\n\nnew_lda = model.predict(newdata)\nprint('LinearDiscriminantAnalysis predictions on the new data is likely \\t', new_lda, '\\n')\nnew_rf = rf_model.predict(newdata)\nprint('RandomForestClassifier predictions on the new data is likely \\t\\t', new_rf)"
        },
        {
            "cell_type": "markdown",
            "metadata": {},
            "source": "From the newdata presented, we can see that both models yielded the same predicions on the 4 sets giving a result of [0,0,1,1].\nTwo negatives and two positives"
        },
        {
            "cell_type": "code",
            "execution_count": null,
            "metadata": {},
            "outputs": [],
            "source": ""
        }
    ],
    "metadata": {
        "kernelspec": {
            "display_name": "Python 3.7",
            "language": "python",
            "name": "python3"
        },
        "language_info": {
            "codemirror_mode": {
                "name": "ipython",
                "version": 3
            },
            "file_extension": ".py",
            "mimetype": "text/x-python",
            "name": "python",
            "nbconvert_exporter": "python",
            "pygments_lexer": "ipython3",
            "version": "3.7.9"
        }
    },
    "nbformat": 4,
    "nbformat_minor": 1
}